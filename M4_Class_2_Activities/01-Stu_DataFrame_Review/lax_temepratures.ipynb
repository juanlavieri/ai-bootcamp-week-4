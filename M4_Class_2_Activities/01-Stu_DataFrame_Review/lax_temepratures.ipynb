{
 "cells": [
  {
   "cell_type": "code",
   "execution_count": 1,
   "metadata": {},
   "outputs": [],
   "source": [
    "import pandas as pd"
   ]
  },
  {
   "cell_type": "code",
   "execution_count": 2,
   "metadata": {},
   "outputs": [],
   "source": [
    "# Read in the CSV file\n",
    "file_path = './Resources/lax_temperature.csv'  # Replace with the correct path to your CSV file\n",
    "lax_temperature_df = pd.read_csv(file_path)"
   ]
  },
  {
   "cell_type": "code",
   "execution_count": 3,
   "metadata": {},
   "outputs": [
    {
     "name": "stdout",
     "output_type": "stream",
     "text": [
      "       STATION                 DATE REPORT_TYPE  HourlyDryBulbTemperature\n",
      "0  72295023174  2019-01-01T00:49:00       FM-16                        52\n",
      "1  72295023174  2019-01-01T00:53:00       FM-15                        51\n",
      "2  72295023174  2019-01-01T01:53:00       FM-15                        52\n",
      "3  72295023174  2019-01-01T02:53:00       FM-15                        49\n",
      "4  72295023174  2019-01-01T03:53:00       FM-15                        43\n"
     ]
    }
   ],
   "source": [
    "# Display the first five rows of the DataFrame\n",
    "print(lax_temperature_df.head())"
   ]
  },
  {
   "cell_type": "code",
   "execution_count": 4,
   "metadata": {},
   "outputs": [
    {
     "name": "stdout",
     "output_type": "stream",
     "text": [
      "       station                 date report_type  hourly_temp\n",
      "0  72295023174  2019-01-01T00:49:00       FM-16           52\n",
      "1  72295023174  2019-01-01T00:53:00       FM-15           51\n",
      "2  72295023174  2019-01-01T01:53:00       FM-15           52\n",
      "3  72295023174  2019-01-01T02:53:00       FM-15           49\n",
      "4  72295023174  2019-01-01T03:53:00       FM-15           43\n"
     ]
    }
   ],
   "source": [
    "# Rename the columns\n",
    "lax_temperature_df.columns = [col.lower().replace(' ', '_') for col in lax_temperature_df.columns]\n",
    "lax_temperature_df = lax_temperature_df.rename(columns={'hourlydrybulbtemperature': 'hourly_temp'})\n",
    "\n",
    "# Display the DataFrame with the renamed columns\n",
    "print(lax_temperature_df.head())"
   ]
  },
  {
   "cell_type": "code",
   "execution_count": 5,
   "metadata": {},
   "outputs": [
    {
     "name": "stdout",
     "output_type": "stream",
     "text": [
      "Count of reports of type FM-16: 510\n"
     ]
    }
   ],
   "source": [
    "# Count of reports of type FM-16\n",
    "count_fm_16 = lax_temperature_df[lax_temperature_df['report_type'] == 'FM-16'].shape[0]\n",
    "print(\"Count of reports of type FM-16:\", count_fm_16)"
   ]
  },
  {
   "cell_type": "code",
   "execution_count": 6,
   "metadata": {},
   "outputs": [
    {
     "name": "stdout",
     "output_type": "stream",
     "text": [
      "Count of readings with temperature over 70 degrees: 96\n"
     ]
    }
   ],
   "source": [
    "# Count of readings with temperature over 70 degrees\n",
    "count_temp_over_70 = lax_temperature_df[lax_temperature_df['hourly_temp'] > 70].shape[0]\n",
    "print(\"Count of readings with temperature over 70 degrees:\", count_temp_over_70)\n"
   ]
  },
  {
   "cell_type": "code",
   "execution_count": 7,
   "metadata": {},
   "outputs": [
    {
     "name": "stdout",
     "output_type": "stream",
     "text": [
      "Temperature of the 276th reading: 61\n"
     ]
    }
   ],
   "source": [
    "# Temperature of the 276th reading\n",
    "# Note: Python uses 0-based indexing, so the 276th reading in human terms is at index 275\n",
    "temperature_276th_reading = lax_temperature_df.iloc[275]['hourly_temp']\n",
    "print(\"Temperature of the 276th reading:\", temperature_276th_reading)"
   ]
  },
  {
   "cell_type": "code",
   "execution_count": 8,
   "metadata": {},
   "outputs": [
    {
     "name": "stdout",
     "output_type": "stream",
     "text": [
      "Details of rows 500 to 505:\n",
      "                     date report_type\n",
      "499  2019-01-15T16:41:00       FM-16\n",
      "500  2019-01-15T16:53:00       FM-15\n",
      "501  2019-01-15T17:18:00       FM-16\n",
      "502  2019-01-15T17:40:00       FM-16\n",
      "503  2019-01-15T17:53:00       FM-15\n",
      "504  2019-01-15T18:37:00       FM-16\n"
     ]
    }
   ],
   "source": [
    "# Details (date and report type) of rows 500 to 505\n",
    "# Again, accounting for 0-based indexing in Python, we need rows 499 to 505\n",
    "details_rows_500_to_505 = lax_temperature_df.iloc[499:505][['date', 'report_type']]\n",
    "print(\"Details of rows 500 to 505:\\n\", details_rows_500_to_505)"
   ]
  },
  {
   "cell_type": "code",
   "execution_count": 9,
   "metadata": {},
   "outputs": [
    {
     "name": "stdout",
     "output_type": "stream",
     "text": [
      "Last 10 rows of the DataFrame:\n",
      "           station                 date report_type  hourly_temp\n",
      "3519  72295023174  2019-04-18T17:53:00       FM-15           63\n",
      "3520  72295023174  2019-04-18T18:53:00       FM-15           61\n",
      "3521  72295023174  2019-04-18T19:53:00       FM-15           60\n",
      "3522  72295023174  2019-04-18T20:53:00       FM-15           60\n",
      "3523  72295023174  2019-04-18T21:48:00       FM-16           61\n",
      "3524  72295023174  2019-04-18T21:53:00       FM-15           60\n",
      "3525  72295023174  2019-04-18T22:06:00       FM-16           59\n",
      "3526  72295023174  2019-04-18T22:12:00       FM-16           58\n",
      "3527  72295023174  2019-04-18T22:36:00       FM-16           58\n",
      "3528  72295023174  2019-04-18T22:53:00       FM-15           58\n"
     ]
    }
   ],
   "source": [
    "# Display the last 10 rows of the DataFrame\n",
    "last_10_rows = lax_temperature_df.tail(10)\n",
    "print(\"Last 10 rows of the DataFrame:\\n\", last_10_rows)"
   ]
  }
 ],
 "metadata": {
  "kernelspec": {
   "display_name": "dev",
   "language": "python",
   "name": "python3"
  },
  "language_info": {
   "codemirror_mode": {
    "name": "ipython",
    "version": 3
   },
   "file_extension": ".py",
   "mimetype": "text/x-python",
   "name": "python",
   "nbconvert_exporter": "python",
   "pygments_lexer": "ipython3",
   "version": "3.10.13"
  }
 },
 "nbformat": 4,
 "nbformat_minor": 2
}
