{
 "cells": [
  {
   "cell_type": "code",
   "execution_count": 3,
   "metadata": {},
   "outputs": [],
   "source": [
    "# Import Dependencies\n",
    "import pandas as pd\n",
    "from pathlib import Path"
   ]
  },
  {
   "cell_type": "code",
   "execution_count": 5,
   "metadata": {},
   "outputs": [],
   "source": [
    "# Import the comic_books_expanded.csv file as a DataFrame\n",
    "comic_books_df = pd.read_csv(Path('../Resources/comic_books_expanded.csv'))"
   ]
  },
  {
   "cell_type": "code",
   "execution_count": 6,
   "metadata": {},
   "outputs": [],
   "source": [
    "# Remove unnecessary columns from the DataFrame and save the new DataFrame\n",
    "# Only keep: \"ISBN\", \"Title\", \"Other titles\", \"Name\", \"All names\", \n",
    "# \"Country of publication\", \"Place of publication\", \"Publisher\", \"Date of publication\"\n",
    "cleanse_comic_books_df = comic_books_df[[\"ISBN\", \"Title\", \"Other titles\", \"Name\", \"All names\", \"Country of publication\", \"Place of publication\", \"Publisher\", \"Date of publication\"]]"
   ]
  },
  {
   "cell_type": "code",
   "execution_count": 7,
   "metadata": {},
   "outputs": [],
   "source": [
    "# Rename the “Name” column to “Author”, rename the “Date of publication” column to “Publication Year”, and then apply title case styling where appropriate in the remaining columns.\n",
    "cleanse_comic_books_df = cleanse_comic_books_df.rename(columns={\"Name\": \"Author\", \"Date of publication\": \"Publication Year\"})\n"
   ]
  },
  {
   "cell_type": "code",
   "execution_count": 8,
   "metadata": {},
   "outputs": [
    {
     "ename": "NameError",
     "evalue": "name 'comics_df' is not defined",
     "output_type": "error",
     "traceback": [
      "\u001b[0;31m---------------------------------------------------------------------------\u001b[0m",
      "\u001b[0;31mNameError\u001b[0m                                 Traceback (most recent call last)",
      "Cell \u001b[0;32mIn[8], line 2\u001b[0m\n\u001b[1;32m      1\u001b[0m \u001b[38;5;66;03m# How many comics were published in the 1960s?\u001b[39;00m\n\u001b[0;32m----> 2\u001b[0m comics_1960s_df \u001b[38;5;241m=\u001b[39m \u001b[43mcomics_df\u001b[49m\u001b[38;5;241m.\u001b[39mloc[(comics_df[\u001b[38;5;124m'\u001b[39m\u001b[38;5;124mPublication Year\u001b[39m\u001b[38;5;124m'\u001b[39m] \u001b[38;5;241m>\u001b[39m\u001b[38;5;241m=\u001b[39m \u001b[38;5;241m1960\u001b[39m) \u001b[38;5;241m&\u001b[39m (comics_df[\u001b[38;5;124m'\u001b[39m\u001b[38;5;124mPublication Year\u001b[39m\u001b[38;5;124m'\u001b[39m] \u001b[38;5;241m<\u001b[39m \u001b[38;5;241m1970\u001b[39m)]\n\u001b[1;32m      3\u001b[0m \u001b[38;5;28mlen\u001b[39m(comics_1960s_df)\n",
      "\u001b[0;31mNameError\u001b[0m: name 'comics_df' is not defined"
     ]
    }
   ],
   "source": [
    "# How many comics were published in the 1960s?\n",
    "comics_1960s_df = comics_df.loc[(comics_df['Publication Year'] >= 1960) & (comics_df['Publication Year'] < 1970)]\n",
    "len(comics_1960s_df)"
   ]
  },
  {
   "cell_type": "code",
   "execution_count": 2,
   "metadata": {},
   "outputs": [],
   "source": [
    "# Are there more batman comics or superman comics?\n",
    "# To start, how many batman comics are listed?\n",
    "batman_comics_df = comics_df.loc[comics_df['Title'].str.contains('Batman')]\n",
    "\n"
   ]
  },
  {
   "cell_type": "code",
   "execution_count": 3,
   "metadata": {},
   "outputs": [],
   "source": [
    "# How many superman comics are listed?\n",
    "superman_comics_df = comics_df.loc[comics_df['Title'].str.contains('Superman')]\n",
    "if len(batman_comics_df) > len(superman_comics_df):\n",
    "    print(\"There are more Batman comics than Superman comics.\")\n",
    "else :\n",
    "    print(\"There are more Superman comics than Batman comics.\")"
   ]
  },
  {
   "cell_type": "markdown",
   "metadata": {},
   "source": [
    "## Summary\n",
    "There are more Batman comics than Superman comics in the dataset."
   ]
  },
  {
   "cell_type": "markdown",
   "metadata": {},
   "source": []
  }
 ],
 "metadata": {
  "kernelspec": {
   "display_name": "Python 3 (ipykernel)",
   "language": "python",
   "name": "python3"
  },
  "language_info": {
   "codemirror_mode": {
    "name": "ipython",
    "version": 3
   },
   "file_extension": ".py",
   "mimetype": "text/x-python",
   "name": "python",
   "nbconvert_exporter": "python",
   "pygments_lexer": "ipython3",
   "version": "3.10.13"
  },
  "nteract": {
   "version": "0.11.9"
  }
 },
 "nbformat": 4,
 "nbformat_minor": 2
}
