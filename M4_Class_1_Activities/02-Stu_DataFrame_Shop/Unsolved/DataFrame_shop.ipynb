{
 "cells": [
  {
   "cell_type": "code",
   "execution_count": 2,
   "metadata": {},
   "outputs": [],
   "source": [
    "# Import Dependencies\n",
    "import pandas as pd"
   ]
  },
  {
   "cell_type": "code",
   "execution_count": 6,
   "metadata": {},
   "outputs": [],
   "source": [
    "# The data is given in dictionaries\n",
    "row1 = {\"Painting\": \"Mona Lisa (Knockoff)\", \"Price\": 25,\n",
    "     \"Popularity\": \"Very Popular\"}\n",
    "row2 = {\"Painting\": \"Van Gogh (Knockoff)\", \"Price\": 20, \"Popularity\": \"Popular\"}\n",
    "row3 = {\"Painting\": \"Starving Artist\", \"Price\": 10, \"Popularity\": \"Average\"}\n",
    "row4 = {\"Painting\": \"Toddler Drawing\", \"Price\": 1, \"Popularity\": \"Not Popular\"}\n",
    "\n",
    "# Create a list containing the dictionaries\n",
    "list_of_dicts = [row1, row2, row3, row4]\n",
    "# Create a dataframe using the list of dictionaries\n",
    "df = pd.DataFrame(list_of_dicts)"
   ]
  },
  {
   "cell_type": "code",
   "execution_count": 4,
   "metadata": {},
   "outputs": [],
   "source": [
    "# The data is given in lists\n",
    "frame_column = [\"Ornate\", \"Classical\", \"Modern\", \"Wood\", \"Cardboard\"]\n",
    "price_column = [15.00, 12.50, 10.00, 5.00, 1.00]\n",
    "sales_column = [100, 200, 150, 300, \"N/A\"]\n",
    "\n",
    "# Create a dictionary containing the lists\n",
    "art_gallery = {\"Frame\": frame_column, \"Price\": price_column, \"Sales\": sales_column}\n",
    "# Create a dataframe using the dictionary of lists\n",
    "art_gallery_df = pd.DataFrame(art_gallery)"
   ]
  },
  {
   "cell_type": "code",
   "execution_count": null,
   "metadata": {},
   "outputs": [],
   "source": []
  }
 ],
 "metadata": {
  "kernelspec": {
   "display_name": "Python 3 (ipykernel)",
   "language": "python",
   "name": "python3"
  },
  "language_info": {
   "codemirror_mode": {
    "name": "ipython",
    "version": 3
   },
   "file_extension": ".py",
   "mimetype": "text/x-python",
   "name": "python",
   "nbconvert_exporter": "python",
   "pygments_lexer": "ipython3",
   "version": "3.10.13"
  }
 },
 "nbformat": 4,
 "nbformat_minor": 2
}
