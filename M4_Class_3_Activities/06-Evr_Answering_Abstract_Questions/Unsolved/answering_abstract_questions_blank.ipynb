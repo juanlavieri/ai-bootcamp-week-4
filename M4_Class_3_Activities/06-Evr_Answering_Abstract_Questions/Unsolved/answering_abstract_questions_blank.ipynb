{
 "cells": [
  {
   "cell_type": "code",
   "execution_count": 1,
   "metadata": {},
   "outputs": [],
   "source": [
    "import pandas as pd"
   ]
  },
  {
   "cell_type": "code",
   "execution_count": 2,
   "metadata": {},
   "outputs": [
    {
     "data": {
      "text/html": [
       "<div>\n",
       "<style scoped>\n",
       "    .dataframe tbody tr th:only-of-type {\n",
       "        vertical-align: middle;\n",
       "    }\n",
       "\n",
       "    .dataframe tbody tr th {\n",
       "        vertical-align: top;\n",
       "    }\n",
       "\n",
       "    .dataframe thead th {\n",
       "        text-align: right;\n",
       "    }\n",
       "</style>\n",
       "<table border=\"1\" class=\"dataframe\">\n",
       "  <thead>\n",
       "    <tr style=\"text-align: right;\">\n",
       "      <th></th>\n",
       "      <th>Year</th>\n",
       "      <th>Month Number</th>\n",
       "      <th>Month</th>\n",
       "      <th>Utility</th>\n",
       "      <th>Owner</th>\n",
       "      <th>Units</th>\n",
       "      <th>Usage</th>\n",
       "    </tr>\n",
       "  </thead>\n",
       "  <tbody>\n",
       "    <tr>\n",
       "      <th>0</th>\n",
       "      <td>2013</td>\n",
       "      <td>1</td>\n",
       "      <td>Jan</td>\n",
       "      <td>Passengers</td>\n",
       "      <td>Campus</td>\n",
       "      <td>PAX</td>\n",
       "      <td>3209356.0</td>\n",
       "    </tr>\n",
       "    <tr>\n",
       "      <th>1</th>\n",
       "      <td>2013</td>\n",
       "      <td>1</td>\n",
       "      <td>Jan</td>\n",
       "      <td>Gas</td>\n",
       "      <td>Commission</td>\n",
       "      <td>Therms</td>\n",
       "      <td>363205.0</td>\n",
       "    </tr>\n",
       "    <tr>\n",
       "      <th>2</th>\n",
       "      <td>2013</td>\n",
       "      <td>1</td>\n",
       "      <td>Jan</td>\n",
       "      <td>Gas</td>\n",
       "      <td>Tenant</td>\n",
       "      <td>Therms</td>\n",
       "      <td>49393.0</td>\n",
       "    </tr>\n",
       "    <tr>\n",
       "      <th>3</th>\n",
       "      <td>2013</td>\n",
       "      <td>1</td>\n",
       "      <td>Jan</td>\n",
       "      <td>Electricity</td>\n",
       "      <td>Commission</td>\n",
       "      <td>kWh</td>\n",
       "      <td>12904353.0</td>\n",
       "    </tr>\n",
       "    <tr>\n",
       "      <th>4</th>\n",
       "      <td>2013</td>\n",
       "      <td>1</td>\n",
       "      <td>Jan</td>\n",
       "      <td>Electricity</td>\n",
       "      <td>Tenant</td>\n",
       "      <td>kWh</td>\n",
       "      <td>14002156.0</td>\n",
       "    </tr>\n",
       "  </tbody>\n",
       "</table>\n",
       "</div>"
      ],
      "text/plain": [
       "   Year  Month Number Month      Utility       Owner   Units       Usage\n",
       "0  2013             1   Jan   Passengers      Campus     PAX   3209356.0\n",
       "1  2013             1   Jan          Gas  Commission  Therms    363205.0\n",
       "2  2013             1   Jan          Gas      Tenant  Therms     49393.0\n",
       "3  2013             1   Jan  Electricity  Commission     kWh  12904353.0\n",
       "4  2013             1   Jan  Electricity      Tenant     kWh  14002156.0"
      ]
     },
     "execution_count": 2,
     "metadata": {},
     "output_type": "execute_result"
    }
   ],
   "source": [
    "# Import the data\n",
    "file = '../Resources/SFO_Airport_Utility_Consumption.csv'\n",
    "utilities_df = pd.read_csv(file)\n",
    "\n",
    "utilities_df.head()"
   ]
  },
  {
   "cell_type": "markdown",
   "metadata": {},
   "source": [
    "# Question: \n",
    "### Which utility's usage changed the most from 2013 to 2018?"
   ]
  },
  {
   "cell_type": "code",
   "execution_count": 4,
   "metadata": {},
   "outputs": [
    {
     "name": "stdout",
     "output_type": "stream",
     "text": [
      "Missing values in each column:\n",
      " Year            0\n",
      "Month Number    0\n",
      "Month           0\n",
      "Utility         0\n",
      "Owner           0\n",
      "Units           0\n",
      "Usage           0\n",
      "dtype: int64\n",
      "\n",
      "Data types of each column:\n",
      " Year              int64\n",
      "Month Number      int64\n",
      "Month            object\n",
      "Utility          object\n",
      "Owner            object\n",
      "Units            object\n",
      "Usage           float64\n",
      "dtype: object\n",
      "\n",
      "Annual Utility Usage:\n",
      "    Year      Utility         Usage\n",
      "0  2013  Electricity  3.302848e+08\n",
      "1  2013          Gas  3.887382e+06\n",
      "2  2013   Passengers  4.500676e+07\n",
      "3  2013        Water  3.909325e+02\n",
      "4  2014  Electricity  3.302770e+08\n"
     ]
    }
   ],
   "source": [
    "# Checking for missing values\n",
    "print(\"Missing values in each column:\\n\", utilities_df.isnull().sum())\n",
    "\n",
    "# Checking data types\n",
    "print(\"\\nData types of each column:\\n\", utilities_df.dtypes)\n",
    "\n",
    "# Since we are interested in annual changes, we can aggregate the usage by year and utility type\n",
    "# We will sum the usage for each utility type per year\n",
    "annual_utility_usage = utilities_df.groupby(['Year', 'Utility'])['Usage'].sum().reset_index()\n",
    "\n",
    "# Display the aggregated data\n",
    "print(\"\\nAnnual Utility Usage:\\n\", annual_utility_usage.head())"
   ]
  },
  {
   "cell_type": "code",
   "execution_count": 5,
   "metadata": {},
   "outputs": [
    {
     "name": "stdout",
     "output_type": "stream",
     "text": [
      "\n",
      "Total Change in Utility Usage from 2013 to 2018:\n",
      "        Utility  Total_Change\n",
      "2   Passengers  1.279047e+07\n",
      "3        Water  1.930364e+01\n",
      "1          Gas -2.655875e+05\n",
      "0  Electricity -1.906532e+07\n"
     ]
    }
   ],
   "source": [
    "# Filter the dataset for the years 2013 to 2018\n",
    "filtered_usage = annual_utility_usage[annual_utility_usage['Year'].between(2013, 2018)]\n",
    "\n",
    "# Pivot the data to have years as columns and utility types as rows\n",
    "pivoted_usage = filtered_usage.pivot(index='Utility', columns='Year', values='Usage')\n",
    "\n",
    "# Calculate the annual changes\n",
    "annual_changes = pivoted_usage.diff(axis=1)\n",
    "\n",
    "# Sum up the changes to get the total change from 2013 to 2018\n",
    "total_change = annual_changes.sum(axis=1).reset_index(name='Total_Change')\n",
    "\n",
    "# Sort the data to see which utility had the most significant change\n",
    "total_change_sorted = total_change.sort_values(by='Total_Change', ascending=False)\n",
    "\n",
    "# Displaying the sorted total changes\n",
    "print(\"\\nTotal Change in Utility Usage from 2013 to 2018:\\n\", total_change_sorted)"
   ]
  },
  {
   "cell_type": "markdown",
   "metadata": {},
   "source": [
    "# Summary\n",
    "## Conclusions\n",
    "\n",
    "Based on the analysis of the SFO Airport's utility data from 2013 to 2018, the following conclusions were drawn:\n",
    "\n",
    "- **Passengers**: There was a significant **increase** in the number of passengers, with a total change of approximately **12.79 million**. This suggests a substantial growth in airport traffic over these years.\n",
    "\n",
    "- **Water**: The change in water usage was minimal, with a total change of about **19.3 units**. This indicates that water consumption at the airport remained relatively stable during this period.\n",
    "\n",
    "- **Gas**: There was a **decrease** in gas usage by approximately **265,587.5 units**. This reduction might be indicative of improved energy efficiency or changes in operational practices at the airport.\n",
    "\n",
    "- **Electricity**: The most noticeable change was in electricity usage, which saw a **decrease** of about **19.07 million units**. This significant reduction could be attributed to a variety of factors, including the adoption of energy-saving measures, upgrades to more efficient systems, or overall changes in the scale and nature of airport operations.\n",
    "\n",
    "Overall, **Electricity** experienced the most substantial decrease in usage, reflecting a possible shift towards energy efficiency. On the other hand, the **Passengers** category showed the largest increase, likely mirroring the growth in airport usage and traffic.\n",
    "\n",
    "These findings provide valuable insights into the utility consumption trends at the SFO Airport, highlighting areas of significant change and potential focus for future efficiency improvements or operational adjustments.\n"
   ]
  },
  {
   "cell_type": "markdown",
   "metadata": {},
   "source": []
  }
 ],
 "metadata": {
  "kernelspec": {
   "display_name": "base",
   "language": "python",
   "name": "python3"
  },
  "language_info": {
   "codemirror_mode": {
    "name": "ipython",
    "version": 3
   },
   "file_extension": ".py",
   "mimetype": "text/x-python",
   "name": "python",
   "nbconvert_exporter": "python",
   "pygments_lexer": "ipython3",
   "version": "3.10.13"
  },
  "orig_nbformat": 4
 },
 "nbformat": 4,
 "nbformat_minor": 2
}
